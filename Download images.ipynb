{
 "cells": [
  {
   "cell_type": "code",
   "execution_count": null,
   "metadata": {},
   "outputs": [],
   "source": [
    "!pip install simple-image-download"
   ]
  },
  {
   "cell_type": "code",
   "execution_count": null,
   "metadata": {},
   "outputs": [],
   "source": [
    "from simple_image_download import simple_image_download as simp"
   ]
  },
  {
   "cell_type": "code",
   "execution_count": null,
   "metadata": {},
   "outputs": [],
   "source": [
    "import csv\n",
    "import os\n",
    "from functools import cmp_to_key\n",
    "from PIL import Image\n",
    "import cv2\n",
    "from numpy import asarray\n",
    "import matplotlib.pyplot as plt\n",
    "from facenet_pytorch import MTCNN, extract_face\n",
    "import os\n",
    "import hashlib\n",
    "\n",
    "\n",
    "\n",
    "with open(\"/Users/elenashafirova/Downloads/top_500.csv\", newline='') as f:\n",
    "    reader = csv.reader(f)\n",
    "    data = []\n",
    "    for i in reader:\n",
    "        data.append(i)\n",
    "flat_list = []\n",
    "for sublist in data[30:]:\n",
    "    for item in sublist:\n",
    "        flat_list.append(item)"
   ]
  },
  {
   "cell_type": "code",
   "execution_count": null,
   "metadata": {},
   "outputs": [],
   "source": [
    "response = simp.simple_image_download\n",
    "for item in flat_list:\n",
    "    response().download(item + ' football' , 150)\n",
    "    "
   ]
  },
  {
   "cell_type": "code",
   "execution_count": null,
   "metadata": {},
   "outputs": [],
   "source": [
    "football_players = ['P._Aubameyang_football',\n",
    " 'S._Mané_football',\n",
    " 'S._Agüero_football',\n",
    " 'K._De_Bruyne_football',\n",
    " 'P._Pogba_football',\n",
    " '.DS_Store',\n",
    " 'K._Mbappé_football',\n",
    " 'A._Griezmann_football',\n",
    " 'V._van_Dijk_football',\n",
    " 'L._Modrić_football',\n",
    " 'David_Silva_football',\n",
    " 'Thiago_Silva_football',\n",
    " 'A._Laporte_football',\n",
    " 'Alisson_football',\n",
    " 'Cristiano_Ronaldo_football',\n",
    " 'H._Son_football',\n",
    " 'M._Salah_football',\n",
    " 'Neymar_Jr_football',\n",
    " 'Piqué_football',\n",
    " 'Bernardo_Silva_football',\n",
    " 'Sergio_Ramos_football',\n",
    " 'L._Messi_football',\n",
    " 'R._Lewandowski_football',\n",
    " 'De_Gea_football',\n",
    " 'L._Suárez_football',\n",
    " 'K._Benzema_football',\n",
    " 'M._Neuer_football',\n",
    " 'E._Hazard_football',\n",
    " 'H._Kane_football',\n",
    " 'N._Kanté_football',\n",
    " 'T._Kroos_football']"
   ]
  },
  {
   "cell_type": "code",
   "execution_count": null,
   "metadata": {},
   "outputs": [],
   "source": [
    "detector = MTCNN(image_size = 160, keep_all = True)\n",
    "i = 0\n",
    "for player in football_players:\n",
    "    subdir = os.path.join('simple_images', player)\n",
    "    subdir_arr = os.listdir(subdir)\n",
    "    \n",
    "    create_dir_path = os.path.join('faces_all', player)\n",
    "    \n",
    "    j = 0\n",
    "    del_elem = '.ipynb_checkpoints'\n",
    "    if del_elem in subdir_arr:\n",
    "        subdir_arr.remove(del_elem)\n",
    "    for elem in subdir_arr:\n",
    "        path_file = os.path.join(subdir, elem)\n",
    "        image = Image.open(path_file)\n",
    "        mtcnn = MTCNN(keep_all = True)\n",
    "        if path_file.endswith('.png') == True:\n",
    "            image = image.convert('RGB')\n",
    "        boxes, probs = mtcnn.detect(image)\n",
    "\n",
    "\n",
    "        print(path_file)\n",
    "\n",
    "\n",
    "        create_dir_path_image = os.path.join(create_dir_path, elem)\n",
    "\n",
    "\n",
    "        if (boxes is not None):\n",
    "            if (len(boxes) == 1):\n",
    "                extract_face(image, boxes[0], save_path=create_dir_path_image, margin = 10)\n",
    "            elif (len(boxes) > 1):\n",
    "                for k, box in enumerate(boxes):\n",
    "                    addr_1 = elem.split('.')[0]\n",
    "                    addr = str(j) + '_' + str(k)\n",
    "                    addr = addr + '.jpg'\n",
    "                    create_dir_path_image = os.path.join(create_dir_path, addr)\n",
    "                    extract_face(image, box, save_path=create_dir_path_image)\n",
    "        j += 1"
   ]
  },
  {
   "cell_type": "code",
   "execution_count": null,
   "metadata": {},
   "outputs": [],
   "source": [
    "\n",
    "def getmd5(filename):\n",
    "    file_txt = open(filename,'rb').read()\n",
    "    m = hashlib.md5(file_txt)\n",
    "    return m.hexdigest()\n",
    "def main(path):\n",
    "    all_size = {}\n",
    "    total_file = 0\n",
    "    total_delete = 0\n",
    "    for root,dirs,files in os.walk(path):\n",
    "        for file in files:\n",
    "            real_path = os.path.join(root,file)\n",
    "            total_file += 1\n",
    "            if os.path.isfile(real_path):\n",
    "                size = os.stat(real_path).st_size\n",
    "                name_and_md5 = [real_path, '']\n",
    "                if size in all_size.keys():\n",
    "                    new_md5 = getmd5(real_path)\n",
    "                    if all_size[size][1] == '':\n",
    "                        all_size[size][1] = getmd5(all_size[size][0])\n",
    "                    if new_md5 in all_size[size]:\n",
    "                        os.remove(real_path)\n",
    "                        total_delete += 1\n",
    "                    else:\n",
    "                        all_size[size].append(new_md5)\n",
    "                else:\n",
    "                    all_size[size] = name_and_md5\n",
    "    print ('Deleted this many files', total_delete)\n",
    "    "
   ]
  },
  {
   "cell_type": "code",
   "execution_count": null,
   "metadata": {},
   "outputs": [],
   "source": [
    "main('simple_images')"
   ]
  },
  {
   "cell_type": "code",
   "execution_count": null,
   "metadata": {},
   "outputs": [],
   "source": []
  }
 ],
 "metadata": {
  "kernelspec": {
   "display_name": "Python 3",
   "language": "python",
   "name": "python3"
  },
  "language_info": {
   "codemirror_mode": {
    "name": "ipython",
    "version": 3
   },
   "file_extension": ".py",
   "mimetype": "text/x-python",
   "name": "python",
   "nbconvert_exporter": "python",
   "pygments_lexer": "ipython3",
   "version": "3.8.5"
  }
 },
 "nbformat": 4,
 "nbformat_minor": 4
}
